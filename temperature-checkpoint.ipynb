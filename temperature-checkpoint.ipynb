{
 "cells": [
  {
   "cell_type": "code",
   "execution_count": 3,
   "metadata": {},
   "outputs": [
    {
     "name": "stdout",
     "output_type": "stream",
     "text": [
      "Epoch 1/10\n",
      "500/500 [==============================] - 118s 235ms/step - loss: 0.1729 - val_loss: 0.1121\n",
      "Epoch 2/10\n",
      "500/500 [==============================] - 123s 245ms/step - loss: 0.0894 - val_loss: 0.0615\n",
      "Epoch 3/10\n",
      "500/500 [==============================] - 110s 221ms/step - loss: 0.0588 - val_loss: 0.0276\n",
      "Epoch 4/10\n",
      "500/500 [==============================] - 110s 220ms/step - loss: 0.0338 - val_loss: 0.0376\n",
      "Epoch 5/10\n",
      "500/500 [==============================] - 109s 219ms/step - loss: 0.0284 - val_loss: 0.0276\n",
      "Epoch 6/10\n",
      "500/500 [==============================] - 109s 218ms/step - loss: 0.0249 - val_loss: 0.0413\n",
      "Epoch 7/10\n",
      "500/500 [==============================] - 110s 220ms/step - loss: 0.0237 - val_loss: 0.0272\n",
      "Epoch 8/10\n",
      "500/500 [==============================] - 110s 219ms/step - loss: 0.0225 - val_loss: 0.0208\n",
      "Epoch 9/10\n",
      "500/500 [==============================] - 109s 219ms/step - loss: 0.0209 - val_loss: 0.0205\n",
      "Epoch 10/10\n",
      "500/500 [==============================] - 110s 219ms/step - loss: 0.0203 - val_loss: 0.0131\n"
     ]
    },
    {
     "data": {
      "image/png": "[encoded data removed]",
      "text/plain": [
       "<Figure size 432x288 with 1 Axes>"
      ]
     },
     "metadata": {
      "needs_background": "light"
     },
     "output_type": "display_data"
    },
    {
     "data": {
      "text/plain": [
       "0.027006836608052254"
      ]
     },
     "execution_count": 3,
     "metadata": {},
     "output_type": "execute_result"
    }
   ],
   "source": [
    "import os\n",
    "from keras.models import Sequential\n",
    "from sklearn.preprocessing import MinMaxScaler\n",
    "from tensorflow.python import keras\n",
    "from keras.preprocessing.sequence import TimeseriesGenerator\n",
    "from keras.models import Sequential\n",
    "from keras.layers import Dense\n",
    "from keras.layers import LSTM\n",
    "from sklearn.preprocessing import MinMaxScaler\n",
    "from sklearn.metrics import mean_squared_error\n",
    "import numpy as np\n",
    "from pandas import read_csv\n",
    "import pandas as pd\n",
    "\n",
    "dataset = pd.read_csv('C:\\\\Users\\\\Mirela\\\\PycharmProjects\\\\untitled2\\\\data_dir\\\\jena_climate_2009_2016.csv',\n",
    "                      usecols=[4]).values.astype('float32')\n",
    "\n",
    "\n",
    "def delta_time_series(data):\n",
    "    return data[1:] - data[:-1]\n",
    "\n",
    "\n",
    "dataset = delta_time_series(dataset)\n",
    "\n",
    "\n",
    "# normalize the dataset\n",
    "scaler = MinMaxScaler(feature_range=(0, 1))\n",
    "dataset = scaler.fit_transform(dataset)\n",
    "\n",
    "# split into train and test sets\n",
    "\n",
    "train, val, test = dataset[0:200000, :], dataset[200001:300000, :], dataset[300001:None, :]\n",
    "\n",
    "lookback = 1440\n",
    "step = 6\n",
    "batch_size = 128\n",
    "\n",
    "train_data_gen = TimeseriesGenerator(train, train,\n",
    "                                     length=lookback, sampling_rate=step, stride=1,\n",
    "                                     batch_size=batch_size)\n",
    "\n",
    "val_data_gen = TimeseriesGenerator(val, val,\n",
    "                                   length=lookback, sampling_rate=step, stride=1,\n",
    "                                   batch_size=batch_size)\n",
    "\n",
    "test_data_gen = TimeseriesGenerator(test, test,\n",
    "                                    length=lookback, sampling_rate=step, stride=1,\n",
    "                                    batch_size=batch_size)\n",
    "\n",
    "val_steps = (300000 - 200001 - lookback)\n",
    "from keras.models import Sequential\n",
    "from keras import layers\n",
    "from keras.optimizers import RMSprop\n",
    "\n",
    "model = Sequential()\n",
    "\n",
    "model.add(layers.Flatten(input_shape=(lookback // step,\n",
    "                                      dataset.shape[-1])))\n",
    "model.add(layers.Dense(32, activation='relu'))\n",
    "model.add(layers.Dense(1))\n",
    "model.compile(optimizer=RMSprop(), loss='mae')\n",
    "history = model.fit_generator(train_data_gen,\n",
    "                              steps_per_epoch=500,\n",
    "                              epochs=10,\n",
    "                              validation_data=val_data_gen,\n",
    "                              validation_steps=val_steps)\n",
    "import matplotlib.pyplot as plt\n",
    "\n",
    "loss = history.history['loss']\n",
    "val_loss = history.history['val_loss']\n",
    "epochs = range(1, len(loss) + 1)\n",
    "plt.figure()\n",
    "plt.plot(epochs, loss, 'bo', label='Training loss')\n",
    "plt.plot(epochs, val_loss, 'b', label='Validation loss')\n",
    "plt.title('Training and validation loss')\n",
    "plt.legend()\n",
    "plt.show()\n",
    "model.evaluate_generator(test_data_gen)"
   ]
  },
  {
   "cell_type": "code",
   "execution_count": null,
   "metadata": {},
   "outputs": [],
   "source": []
  }
 ],
 "metadata": {
  "kernelspec": {
   "display_name": "Python 3",
   "language": "python",
   "name": "python3"
  },
  "language_info": {
   "codemirror_mode": {
    "name": "ipython",
    "version": 3
   },
   "file_extension": ".py",
   "mimetype": "text/x-python",
   "name": "python",
   "nbconvert_exporter": "python",
   "pygments_lexer": "ipython3",
   "version": "3.7.3"
  }
 },
 "nbformat": 4,
 "nbformat_minor": 1
}
