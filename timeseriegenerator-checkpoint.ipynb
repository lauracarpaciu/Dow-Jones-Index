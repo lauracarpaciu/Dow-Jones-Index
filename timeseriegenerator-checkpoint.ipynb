{
 "cells": [
  {
   "cell_type": "markdown",
   "metadata": {},
   "source": [
    "Inspecting the data of the DJI dataset"
   ]
  },
  {
   "cell_type": "code",
   "execution_count": 3,
   "metadata": {},
   "outputs": [
    {
     "data": {
      "text/plain": [
       "[<matplotlib.lines.Line2D at 0x254d6991b38>]"
      ]
     },
     "execution_count": 3,
     "metadata": {},
     "output_type": "execute_result"
    },
    {
     "data": {
      "image/png": "[encoded data removed]",
      "text/plain": [
       "<Figure size 432x288 with 1 Axes>"
      ]
     },
     "metadata": {
      "needs_background": "light"
     },
     "output_type": "display_data"
    }
   ],
   "source": [
    "import os\n",
    "from keras.models import Sequential\n",
    "from sklearn.preprocessing import MinMaxScaler\n",
    "from tensorflow.python import keras\n",
    "from keras.preprocessing.sequence import TimeseriesGenerator\n",
    "from keras.models import Sequential\n",
    "from keras.layers import Dense\n",
    "from keras.layers import LSTM\n",
    "from sklearn.preprocessing import MinMaxScaler\n",
    "from sklearn.metrics import mean_squared_error\n",
    "import numpy as np\n",
    "from pandas import read_csv\n",
    "import pandas as pd\n",
    "import matplotlib.pyplot as plt\n",
    "\n",
    "dataset = pd.read_csv('C:\\\\Users\\\\Mirela\\\\PycharmProjects\\\\DJI\\\\data_dir\\\\DJI.csv',\n",
    "                      usecols=[4]).values.astype('float64')\n",
    "\n",
    "\n",
    "from matplotlib import pyplot as plt\n",
    "\n",
    "avg_price = dataset[:, 0] \n",
    "plt.plot(range(len(avg_price)), avg_price)\n"
   ]
  },
  {
   "cell_type": "markdown",
   "metadata": {},
   "source": [
    "Plotting the Avg. Price timeseries"
   ]
  },
  {
   "cell_type": "code",
   "execution_count": 4,
   "metadata": {},
   "outputs": [],
   "source": [
    "# Helper function to get y as a numpy array from the TimeseriesGenerator\n",
    "def get_y_from_generator(gen):\n",
    "    '''\n",
    "    Get all targets y from a TimeseriesGenerator instance.\n",
    "    '''\n",
    "    y = None\n",
    "    for i in range(len(gen)):\n",
    "        batch_y = gen[i][1]\n",
    "        if y is None:\n",
    "            y = batch_y\n",
    "        else:\n",
    "            y = np.append(y, batch_y)\n",
    "    y = y.reshape((-1,1))\n",
    "    print(y.shape)\n",
    "    return y"
   ]
  },
  {
   "cell_type": "markdown",
   "metadata": {},
   "source": [
    "Preparing the data"
   ]
  },
  {
   "cell_type": "code",
   "execution_count": 5,
   "metadata": {},
   "outputs": [],
   "source": [
    "# normalize the dataset\n",
    "scaler = MinMaxScaler(feature_range=(0, 1))\n",
    "dataset = scaler.fit_transform(dataset)\n",
    "\n",
    "# split into train and test sets\n",
    "\n",
    "train, val, test = dataset[0:3000, :], dataset[3001:4000, :], dataset[4001:None, :]\n",
    "\n",
    "lookback = 50\n",
    "step = 1\n",
    "batch_size = 128\n",
    "\n",
    "train_data_gen = TimeseriesGenerator(train, train,\n",
    "                                     length=lookback, sampling_rate=step, stride=1,shuffle=True,\n",
    "                                     batch_size=batch_size)\n",
    "\n",
    "val_data_gen = TimeseriesGenerator(val, val,\n",
    "                                   length=lookback, sampling_rate=step, stride=1,\n",
    "                                   batch_size=batch_size)\n",
    "\n",
    "test_data_gen = TimeseriesGenerator(test, test,\n",
    "                                    length=lookback, sampling_rate=step, stride=1,\n",
    "                                    batch_size=batch_size)\n",
    "\n",
    "val_steps = (4000 - 3001 - lookback)\n",
    "test_steps = (len(dataset) - 4001 - lookback)"
   ]
  },
  {
   "cell_type": "markdown",
   "metadata": {},
   "source": [
    "I’ll use the following parameter values: lookback = 50  —Observations will go back 50  days. steps = 1 — Observations will be sampled at one data point per day. The data is already numerical, so I don’t need to do any vectorization. I’ll normalize each timeseries independently so that they all take small values on a similar scale.\n",
    "\n",
    "Write a Python generator that takes the current array of float data and yields batches of data from the recent past, along with a target Avg. Price in the future.\n",
    "\n",
    "Instantiate three generators: one for training, one for validation, and one for testing. Each will look at different temporal segments of the original data: the training generator looks at the first 3000 timesteps, the validation generator looks at the following 1000, and the test generator looks at the remainder.\n",
    "\n",
    "Training and evaluating a GRU-based model"
   ]
  },
  {
   "cell_type": "code",
   "execution_count": 6,
   "metadata": {},
   "outputs": [
    {
     "name": "stdout",
     "output_type": "stream",
     "text": [
      "Epoch 1/10\n",
      "500/500 [==============================] - 31s 63ms/step - loss: 0.0116 - val_loss: 0.0069\n",
      "Epoch 2/10\n",
      "500/500 [==============================] - 31s 62ms/step - loss: 0.0069 - val_loss: 0.0044\n",
      "Epoch 3/10\n",
      "500/500 [==============================] - 31s 62ms/step - loss: 0.0063 - val_loss: 0.0065\n",
      "Epoch 4/10\n",
      "500/500 [==============================] - 31s 63ms/step - loss: 0.0060 - val_loss: 0.0050\n",
      "Epoch 5/10\n",
      "500/500 [==============================] - 31s 62ms/step - loss: 0.0059 - val_loss: 0.0035\n",
      "Epoch 6/10\n",
      "500/500 [==============================] - 31s 62ms/step - loss: 0.0058 - val_loss: 0.0077\n",
      "Epoch 7/10\n",
      "500/500 [==============================] - 31s 62ms/step - loss: 0.0057 - val_loss: 0.0106\n",
      "Epoch 8/10\n",
      "500/500 [==============================] - 30s 60ms/step - loss: 0.0056 - val_loss: 0.0056\n",
      "Epoch 9/10\n",
      "500/500 [==============================] - 31s 61ms/step - loss: 0.0055 - val_loss: 0.0058\n",
      "Epoch 10/10\n",
      "500/500 [==============================] - 31s 62ms/step - loss: 0.0055 - val_loss: 0.0053\n"
     ]
    },
    {
     "data": {
      "image/png": "[encoded data removed]",
      "text/plain": [
       "<Figure size 432x288 with 1 Axes>"
      ]
     },
     "metadata": {
      "needs_background": "light"
     },
     "output_type": "display_data"
    }
   ],
   "source": [
    "from keras.models import Sequential\n",
    "from keras import layers\n",
    "from keras.optimizers import RMSprop\n",
    "\n",
    "model = Sequential()\n",
    "model.add(layers.GRU(32, input_shape=(None, dataset.shape[-1])))\n",
    "model.add(layers.Dense(1))\n",
    "model.compile(optimizer=RMSprop(), loss='mae')\n",
    "history = model.fit_generator(train_data_gen,\n",
    "                              steps_per_epoch=500,\n",
    "                              epochs=10,\n",
    "                              validation_data=val_data_gen,\n",
    "                              validation_steps=val_steps)\n",
    "\n",
    "loss = history.history['loss']\n",
    "val_loss = history.history['val_loss']\n",
    "epochs = range(1, len(loss) + 1)\n",
    "plt.figure()\n",
    "plt.plot(epochs, loss, 'bo', label='Training loss')\n",
    "plt.plot(epochs, val_loss, 'b', label='Validation loss')\n",
    "plt.title('Training and validation loss')\n",
    "plt.legend()\n",
    "plt.show()"
   ]
  },
  {
   "cell_type": "markdown",
   "metadata": {},
   "source": [
    "\n",
    "Using recurrent dropout to fight overfitting"
   ]
  },
  {
   "cell_type": "code",
   "execution_count": 7,
   "metadata": {},
   "outputs": [
    {
     "name": "stdout",
     "output_type": "stream",
     "text": [
      "Epoch 1/10\n",
      "500/500 [==============================] - 18s 36ms/step - loss: 0.0527 - val_loss: 0.0388\n",
      "Epoch 2/10\n",
      "500/500 [==============================] - 18s 36ms/step - loss: 0.0401 - val_loss: 0.0321\n",
      "Epoch 3/10\n",
      "500/500 [==============================] - 18s 35ms/step - loss: 0.0399 - val_loss: 0.0560\n",
      "Epoch 4/10\n",
      "500/500 [==============================] - 17s 35ms/step - loss: 0.0395 - val_loss: 0.0398\n",
      "Epoch 5/10\n",
      "500/500 [==============================] - 17s 35ms/step - loss: 0.0394 - val_loss: 0.0347TA: 0s - loss:  - ETA: 0s - lo\n",
      "Epoch 6/10\n",
      "500/500 [==============================] - 17s 35ms/step - loss: 0.0394 - val_loss: 0.0310\n",
      "Epoch 7/10\n",
      "500/500 [==============================] - 17s 35ms/step - loss: 0.0396 - val_loss: 0.0575\n",
      "Epoch 8/10\n",
      "500/500 [==============================] - 18s 36ms/step - loss: 0.0391 - val_loss: 0.0372\n",
      "Epoch 9/10\n",
      "500/500 [==============================] - 17s 35ms/step - loss: 0.0395 - val_loss: 0.0338 - ETA: 0s - loss: 0.039\n",
      "Epoch 10/10\n",
      "500/500 [==============================] - 17s 35ms/step - loss: 0.0391 - val_loss: 0.0318\n"
     ]
    },
    {
     "data": {
      "image/png": "[encoded data removed]",
      "text/plain": [
       "<Figure size 432x288 with 1 Axes>"
      ]
     },
     "metadata": {
      "needs_background": "light"
     },
     "output_type": "display_data"
    }
   ],
   "source": [
    "from keras.models import Sequential\n",
    "from keras import layers\n",
    "from keras.optimizers import RMSprop\n",
    "\n",
    "model = Sequential()\n",
    "model.add(layers.GRU(32,\n",
    "                     dropout=0.2,\n",
    "                     recurrent_dropout=0.2,\n",
    "                     input_shape=(None, dataset.shape[-1])))\n",
    "model.add(layers.Dense(1))\n",
    "model.compile(optimizer=RMSprop(), loss='mae')\n",
    "history = model.fit_generator(train_data_gen,\n",
    "                              steps_per_epoch=500,\n",
    "                              epochs=10,\n",
    "                              validation_data=val_data_gen,\n",
    "                              validation_steps=val_steps)\n",
    "\n",
    "loss = history.history['loss']\n",
    "val_loss = history.history['val_loss']\n",
    "epochs = range(1, len(loss) + 1)\n",
    "plt.figure()\n",
    "plt.plot(epochs, loss, 'bo', label='Training loss')\n",
    "plt.plot(epochs, val_loss, 'b', label='Validation loss')\n",
    "plt.title('Training and validation loss')\n",
    "plt.legend()\n",
    "plt.show()"
   ]
  },
  {
   "cell_type": "markdown",
   "metadata": {},
   "source": [
    "Every recurrent layer in Keras has two dropout related arguments: dropout, a float specifying the dropout rate for input units of the layer, and recurrent_dropout, specifying the dropout rate of the recurrent units. Let’s add dropout and recurrent dropout to the GRU layer and see how doing so impacts overfitting. Because networks being regularized with dropout always take longer to fully converge, you’ll train the network for twice as many epochs. You’re no longer overfitting during the first 10 epochs. But although you have more stable evaluation scores, your best scores aren’t much lower than they were previously."
   ]
  },
  {
   "cell_type": "code",
   "execution_count": 8,
   "metadata": {},
   "outputs": [
    {
     "name": "stdout",
     "output_type": "stream",
     "text": [
      "Epoch 1/10\n",
      "500/500 [==============================] - 19s 38ms/step - loss: 0.0559 - val_loss: 0.0684\n",
      "Epoch 2/10\n",
      "500/500 [==============================] - 19s 38ms/step - loss: 0.0406 - val_loss: 0.0386\n",
      "Epoch 3/10\n",
      "500/500 [==============================] - 18s 36ms/step - loss: 0.0397 - val_loss: 0.0589\n",
      "Epoch 4/10\n",
      "500/500 [==============================] - 19s 38ms/step - loss: 0.0396 - val_loss: 0.0416\n",
      "Epoch 5/10\n",
      "500/500 [==============================] - 18s 36ms/step - loss: 0.0395 - val_loss: 0.0358\n",
      "Epoch 6/10\n",
      "500/500 [==============================] - 18s 36ms/step - loss: 0.0395 - val_loss: 0.0369\n",
      "Epoch 7/10\n",
      "500/500 [==============================] - 18s 36ms/step - loss: 0.0394 - val_loss: 0.0579\n",
      "Epoch 8/10\n",
      "500/500 [==============================] - 18s 36ms/step - loss: 0.0396 - val_loss: 0.0371\n",
      "Epoch 9/10\n",
      "500/500 [==============================] - 19s 38ms/step - loss: 0.0394 - val_loss: 0.0381\n",
      "Epoch 10/10\n",
      "500/500 [==============================] - 18s 37ms/step - loss: 0.0391 - val_loss: 0.0333\n"
     ]
    },
    {
     "data": {
      "image/png": "[encoded data removed]",
      "text/plain": [
       "<Figure size 432x288 with 1 Axes>"
      ]
     },
     "metadata": {
      "needs_background": "light"
     },
     "output_type": "display_data"
    }
   ],
   "source": [
    "from keras.models import Sequential\n",
    "from keras import layers\n",
    "from keras.optimizers import RMSprop\n",
    "\n",
    "model = Sequential()\n",
    "model.add(layers.GRU(32,\n",
    "                     dropout=0.1,\n",
    "                     recurrent_dropout=0.5,\n",
    "                     return_sequences=True,\n",
    "                     input_shape=(None, dataset.shape[-1])))\n",
    "model.add(layers.GRU(64, activation='relu',\n",
    "                     dropout=0.1,\n",
    "                     recurrent_dropout=0.5))\n",
    "model.add(layers.Dense(1))\n",
    "model.compile(optimizer=RMSprop(), loss='mae')\n",
    "history = model.fit_generator(train_data_gen,\n",
    "                              steps_per_epoch=500,\n",
    "                              epochs=10,\n",
    "                              validation_data=val_data_gen,\n",
    "                              validation_steps=val_steps)\n",
    "loss = history.history['loss']\n",
    "val_loss = history.history['val_loss']\n",
    "epochs = range(1, len(loss) + 1)\n",
    "plt.figure()\n",
    "plt.plot(epochs, loss, 'bo', label='Training loss')\n",
    "plt.plot(epochs, val_loss, 'b', label='Validation loss')\n",
    "plt.title('Training and validation loss')\n",
    "plt.legend()\n",
    "plt.show()"
   ]
  },
  {
   "cell_type": "code",
   "execution_count": 9,
   "metadata": {},
   "outputs": [
    {
     "name": "stdout",
     "output_type": "stream",
     "text": [
      "test loss: 0.03073030337691307\n"
     ]
    }
   ],
   "source": [
    "test_loss = model.evaluate_generator(test_data_gen,steps=test_steps)\n",
    "print('test loss:', test_loss)\n"
   ]
  },
  {
   "cell_type": "code",
   "execution_count": 10,
   "metadata": {},
   "outputs": [
    {
     "data": {
      "text/plain": [
       "(772, 1)"
      ]
     },
     "execution_count": 10,
     "metadata": {},
     "output_type": "execute_result"
    }
   ],
   "source": [
    "testPredict = model.predict_generator(test_data_gen)\n",
    "testPredict.shape"
   ]
  },
  {
   "cell_type": "code",
   "execution_count": 11,
   "metadata": {},
   "outputs": [],
   "source": [
    "testPredict = scaler.inverse_transform(testPredict)"
   ]
  },
  {
   "cell_type": "code",
   "execution_count": 12,
   "metadata": {},
   "outputs": [
    {
     "name": "stdout",
     "output_type": "stream",
     "text": [
      "(772, 1)\n"
     ]
    }
   ],
   "source": [
    "testY = get_y_from_generator(test_data_gen)"
   ]
  },
  {
   "cell_type": "code",
   "execution_count": 13,
   "metadata": {},
   "outputs": [],
   "source": [
    "testY = scaler.inverse_transform(testY)"
   ]
  },
  {
   "cell_type": "code",
   "execution_count": 14,
   "metadata": {},
   "outputs": [
    {
     "name": "stdout",
     "output_type": "stream",
     "text": [
      "Test Score: 203.46 RMSE\n"
     ]
    }
   ],
   "source": [
    "from sklearn.metrics import mean_squared_error\n",
    "import math\n",
    "# calculate root mean squared error\n",
    "testScore = math.sqrt(mean_squared_error(testY[:, 0], testPredict[:,0]))\n",
    "print('Test Score: %.2f RMSE' % (testScore))"
   ]
  },
  {
   "cell_type": "code",
   "execution_count": 15,
   "metadata": {},
   "outputs": [
    {
     "data": {
      "image/png": "[encoded data removed]",
      "text/plain": [
       "<Figure size 432x288 with 1 Axes>"
      ]
     },
     "metadata": {
      "needs_background": "light"
     },
     "output_type": "display_data"
    }
   ],
   "source": [
    "# error distribution\n",
    "error = testPredict - testY\n",
    "plt.hist(error, bins = 25)\n",
    "plt.xlabel(\"Prediction Error \")\n",
    "_ = plt.ylabel(\"Count\")\n"
   ]
  },
  {
   "cell_type": "markdown",
   "metadata": {},
   "source": [
    "When we have data where temporal ordering matters, recurrent networks are a great fit and easily outperform models that first flatten the temporal data. To use dropout with recurrent networks, you should use a time-constant dropout mask and recurrent dropout mask. These are built into Keras recurrent layers, so all you have to do is use the dropout and recurrent_dropout arguments of recurrent layers. Stacked RNNs provide more representational power than a single RNN layer. They’re also much more expensive and thus not always worth it. Although they offer clear gains on complex problems (such as machine translation), they may not always be relevant to smaller, simpler problems."
   ]
  }
 ],
 "metadata": {
  "kernelspec": {
   "display_name": "Python 3",
   "language": "python",
   "name": "python3"
  },
  "language_info": {
   "codemirror_mode": {
    "name": "ipython",
    "version": 3
   },
   "file_extension": ".py",
   "mimetype": "text/x-python",
   "name": "python",
   "nbconvert_exporter": "python",
   "pygments_lexer": "ipython3",
   "version": "3.7.3"
  }
 },
 "nbformat": 4,
 "nbformat_minor": 1
}
